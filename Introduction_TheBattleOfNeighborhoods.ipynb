{
    "cells": [
        {
            "metadata": {
                "collapsed": true
            },
            "cell_type": "markdown",
            "source": "# The Battle of Neighborhoods | Business Problem | Introduction"
        },
        {
            "metadata": {},
            "cell_type": "markdown",
            "source": "The purpose of this project is to help people find the best apartment rental in Manhattan, NY. It will help people make a smart and efficient decision on selecting the best neighborhood out of a number of other neighborhoods in NYC. \n\nLots of people are migrating to different parts of Manhattan and need lots of research for good apartment rental prices, distance to nearby subway stations, and distance to popular tourist attractions. This project is for those people who are looking for better neighborhoods.\n\nThis project aim to create an analysis of features for people migrating to Manhattan to search the best neighborhood as a comparative analysis between neighborhoods. The features include median housing price and better school according to accomodation prices with fees, location of the accomodation, venues within a radius of 1000 meters from the accomodation, and crime rate data in radius of 100 meters from the accomodation.\n\nIt will help people to get awareness of the area and neighborhood before moving to a new city for their work or to start a new fresh life."
        }
    ],
    "metadata": {
        "kernelspec": {
            "name": "python3",
            "display_name": "Python 3.7",
            "language": "python"
        },
        "language_info": {
            "name": "python",
            "version": "3.7.9",
            "mimetype": "text/x-python",
            "codemirror_mode": {
                "name": "ipython",
                "version": 3
            },
            "pygments_lexer": "ipython3",
            "nbconvert_exporter": "python",
            "file_extension": ".py"
        }
    },
    "nbformat": 4,
    "nbformat_minor": 1
}