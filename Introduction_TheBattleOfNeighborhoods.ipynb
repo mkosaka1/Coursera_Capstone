{
    "cells": [
        {
            "cell_type": "markdown",
            "metadata": {
                "collapsed": true
            },
            "source": "# The Battle of Neighborhoods | Business Problem | Introduction"
        },
        {
            "cell_type": "markdown",
            "metadata": {},
            "source": "The purpose of this project is to help people find the best apartment rental in Manhattan, NY. It will help people make a smart and efficient decision on selecting the best neighborhood out of a number of other neighborhoods in NYC. \n\nLots of people are migrating to different parts of Manhattan and need lots of research for good apartment rental prices, distance to nearby subway stations, and distance to popular tourist attractions. This project is for those people who are looking for better neighborhoods.\n\nThis project aim to create an analysis of features for people migrating to Manhattan to search the best neighborhood as a comparative analysis between neighborhoods. The features include median housing price and better school according to accomodation prices with fees, location of the accomodation, venues within a radius of 1000 meters from the accomodation, and crime rate data in radius of 100 meters from the accomodation.\n\nIt will help people to get awareness of the area and neighborhood before moving to a new city for their work or to start a new fresh life."
        }
    ],
    "metadata": {
        "kernelspec": {
            "display_name": "Python 3.7",
            "language": "python",
            "name": "python3"
        },
        "language_info": {
            "codemirror_mode": {
                "name": "ipython",
                "version": 3
            },
            "file_extension": ".py",
            "mimetype": "text/x-python",
            "name": "python",
            "nbconvert_exporter": "python",
            "pygments_lexer": "ipython3",
            "version": "3.7.9"
        }
    },
    "nbformat": 4,
    "nbformat_minor": 1
}