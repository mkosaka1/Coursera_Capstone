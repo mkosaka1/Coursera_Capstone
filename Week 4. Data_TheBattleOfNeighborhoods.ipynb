{
    "cells": [
        {
            "metadata": {
                "collapsed": true
            },
            "cell_type": "markdown",
            "source": "# The Battle of Neighborhoods - Data"
        },
        {
            "metadata": {},
            "cell_type": "markdown",
            "source": "Describe the data that you will be using to solve the problem or execute your idea. Remember that you will need to use the Foursquare location data to solve the problem or execute your idea. You can absolutely use other datasets in combination with the Foursquare location data. So make sure that you provide adequate explanation and discussion, with examples, of the data that you will be using, even if it is only Foursquare location data."
        },
        {
            "metadata": {},
            "cell_type": "markdown",
            "source": "# Current Data"
        },
        {
            "metadata": {},
            "cell_type": "markdown",
            "source": "For our investigation we will use the free and public available datasets.\nWe will try to evaluate available Airbnb 2020-year accommodations on Manhattan, New York and define the most reasonable apartments sets(clusters) for the visitors.\n\nBased on definition of our problem, we suppose that factors that will help us are:\n\naccommodation prices average by neighborhood;\nnumber of tourist attractions near the accommodation;\nnumber of crimes nearby the accommodation.\nFollowing data sources is needed for our project:\n\nNew York City apartment listing from the Inside Airbnb site - \nhttp://data.insideairbnb.com/united-states/ny/new-york-city/2020-10-05/data/listings.csv.gz\n\nNew York Neighborhoods Tabulation Areas - \nhttps://data.cityofnewyork.us/api/geospatial/cpf4-rkhq?method=export&format=GeoJSON\n\nFoursquare API to extract data about venues - food places, museums, galleries, shopping centers, sightseeing attractions, etc.\n\nNew York Crime data for 2020 year - https://data.cityofnewyork.us/api/views/5uac-w243/rows.csv?accessType=DOWNLOAD\n\nNew York City Subway Stations - https://data.cityofnewyork.us/api/geospatial/arq3-7z49?method=export&format=GeoJSON"
        }
    ],
    "metadata": {
        "kernelspec": {
            "name": "python3",
            "display_name": "Python 3.7",
            "language": "python"
        },
        "language_info": {
            "name": "python",
            "version": "3.7.9",
            "mimetype": "text/x-python",
            "codemirror_mode": {
                "name": "ipython",
                "version": 3
            },
            "pygments_lexer": "ipython3",
            "nbconvert_exporter": "python",
            "file_extension": ".py"
        }
    },
    "nbformat": 4,
    "nbformat_minor": 1
}
